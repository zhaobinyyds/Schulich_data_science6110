{
 "cells": [
  {
   "cell_type": "code",
   "execution_count": 1,
   "metadata": {},
   "outputs": [],
   "source": [
    "import numpy as np\n",
    "import pandas as pd\n",
    "from scipy import stats\n",
    "import seaborn as sns\n"
   ]
  },
  {
   "cell_type": "code",
   "execution_count": 2,
   "metadata": {},
   "outputs": [],
   "source": [
    "df=pd.read_csv('/Users/angelis/Downloads/midterm_data.csv')"
   ]
  },
  {
   "cell_type": "code",
   "execution_count": 3,
   "metadata": {},
   "outputs": [
    {
     "data": {
      "text/html": [
       "<div>\n",
       "<style scoped>\n",
       "    .dataframe tbody tr th:only-of-type {\n",
       "        vertical-align: middle;\n",
       "    }\n",
       "\n",
       "    .dataframe tbody tr th {\n",
       "        vertical-align: top;\n",
       "    }\n",
       "\n",
       "    .dataframe thead th {\n",
       "        text-align: right;\n",
       "    }\n",
       "</style>\n",
       "<table border=\"1\" class=\"dataframe\">\n",
       "  <thead>\n",
       "    <tr style=\"text-align: right;\">\n",
       "      <th></th>\n",
       "      <th>userID</th>\n",
       "      <th>age</th>\n",
       "      <th>sessions</th>\n",
       "      <th>time_spent</th>\n",
       "      <th>pages_visited</th>\n",
       "      <th>cart_items</th>\n",
       "      <th>cart_value</th>\n",
       "      <th>checkout_status</th>\n",
       "      <th>device</th>\n",
       "      <th>location</th>\n",
       "    </tr>\n",
       "  </thead>\n",
       "  <tbody>\n",
       "    <tr>\n",
       "      <th>0</th>\n",
       "      <td>1</td>\n",
       "      <td>62</td>\n",
       "      <td>3</td>\n",
       "      <td>13.295129</td>\n",
       "      <td>2</td>\n",
       "      <td>20</td>\n",
       "      <td>199.21</td>\n",
       "      <td>0</td>\n",
       "      <td>Desktop</td>\n",
       "      <td>Location 1</td>\n",
       "    </tr>\n",
       "    <tr>\n",
       "      <th>1</th>\n",
       "      <td>2</td>\n",
       "      <td>65</td>\n",
       "      <td>2</td>\n",
       "      <td>21.686405</td>\n",
       "      <td>3</td>\n",
       "      <td>21</td>\n",
       "      <td>294.82</td>\n",
       "      <td>0</td>\n",
       "      <td>Desktop</td>\n",
       "      <td>Location 3</td>\n",
       "    </tr>\n",
       "    <tr>\n",
       "      <th>2</th>\n",
       "      <td>3</td>\n",
       "      <td>18</td>\n",
       "      <td>7</td>\n",
       "      <td>17.135220</td>\n",
       "      <td>4</td>\n",
       "      <td>23</td>\n",
       "      <td>240.87</td>\n",
       "      <td>0</td>\n",
       "      <td>Desktop</td>\n",
       "      <td>Location 4</td>\n",
       "    </tr>\n",
       "    <tr>\n",
       "      <th>3</th>\n",
       "      <td>4</td>\n",
       "      <td>21</td>\n",
       "      <td>9</td>\n",
       "      <td>29.589311</td>\n",
       "      <td>8</td>\n",
       "      <td>16</td>\n",
       "      <td>183.78</td>\n",
       "      <td>1</td>\n",
       "      <td>Desktop</td>\n",
       "      <td>Location 2</td>\n",
       "    </tr>\n",
       "    <tr>\n",
       "      <th>4</th>\n",
       "      <td>5</td>\n",
       "      <td>21</td>\n",
       "      <td>3</td>\n",
       "      <td>25.948584</td>\n",
       "      <td>4</td>\n",
       "      <td>10</td>\n",
       "      <td>59.51</td>\n",
       "      <td>1</td>\n",
       "      <td>Tablet</td>\n",
       "      <td>Location 4</td>\n",
       "    </tr>\n",
       "    <tr>\n",
       "      <th>...</th>\n",
       "      <td>...</td>\n",
       "      <td>...</td>\n",
       "      <td>...</td>\n",
       "      <td>...</td>\n",
       "      <td>...</td>\n",
       "      <td>...</td>\n",
       "      <td>...</td>\n",
       "      <td>...</td>\n",
       "      <td>...</td>\n",
       "      <td>...</td>\n",
       "    </tr>\n",
       "    <tr>\n",
       "      <th>4995</th>\n",
       "      <td>4996</td>\n",
       "      <td>48</td>\n",
       "      <td>8</td>\n",
       "      <td>45.000000</td>\n",
       "      <td>11</td>\n",
       "      <td>25</td>\n",
       "      <td>278.92</td>\n",
       "      <td>0</td>\n",
       "      <td>Tablet</td>\n",
       "      <td>Location 5</td>\n",
       "    </tr>\n",
       "    <tr>\n",
       "      <th>4996</th>\n",
       "      <td>4997</td>\n",
       "      <td>31</td>\n",
       "      <td>4</td>\n",
       "      <td>44.700747</td>\n",
       "      <td>9</td>\n",
       "      <td>12</td>\n",
       "      <td>78.97</td>\n",
       "      <td>0</td>\n",
       "      <td>Tablet</td>\n",
       "      <td>Location 2</td>\n",
       "    </tr>\n",
       "    <tr>\n",
       "      <th>4997</th>\n",
       "      <td>4998</td>\n",
       "      <td>34</td>\n",
       "      <td>5</td>\n",
       "      <td>27.146624</td>\n",
       "      <td>7</td>\n",
       "      <td>19</td>\n",
       "      <td>139.42</td>\n",
       "      <td>1</td>\n",
       "      <td>Desktop</td>\n",
       "      <td>Location 4</td>\n",
       "    </tr>\n",
       "    <tr>\n",
       "      <th>4998</th>\n",
       "      <td>4999</td>\n",
       "      <td>58</td>\n",
       "      <td>1</td>\n",
       "      <td>45.000000</td>\n",
       "      <td>11</td>\n",
       "      <td>24</td>\n",
       "      <td>203.42</td>\n",
       "      <td>0</td>\n",
       "      <td>Desktop</td>\n",
       "      <td>Location 5</td>\n",
       "    </tr>\n",
       "    <tr>\n",
       "      <th>4999</th>\n",
       "      <td>5000</td>\n",
       "      <td>63</td>\n",
       "      <td>2</td>\n",
       "      <td>28.484907</td>\n",
       "      <td>7</td>\n",
       "      <td>10</td>\n",
       "      <td>84.15</td>\n",
       "      <td>1</td>\n",
       "      <td>Tablet</td>\n",
       "      <td>Location 3</td>\n",
       "    </tr>\n",
       "  </tbody>\n",
       "</table>\n",
       "<p>5000 rows × 10 columns</p>\n",
       "</div>"
      ],
      "text/plain": [
       "      userID  age  sessions  time_spent  pages_visited  cart_items   \n",
       "0          1   62         3   13.295129              2          20  \\\n",
       "1          2   65         2   21.686405              3          21   \n",
       "2          3   18         7   17.135220              4          23   \n",
       "3          4   21         9   29.589311              8          16   \n",
       "4          5   21         3   25.948584              4          10   \n",
       "...      ...  ...       ...         ...            ...         ...   \n",
       "4995    4996   48         8   45.000000             11          25   \n",
       "4996    4997   31         4   44.700747              9          12   \n",
       "4997    4998   34         5   27.146624              7          19   \n",
       "4998    4999   58         1   45.000000             11          24   \n",
       "4999    5000   63         2   28.484907              7          10   \n",
       "\n",
       "      cart_value  checkout_status   device    location  \n",
       "0         199.21                0  Desktop  Location 1  \n",
       "1         294.82                0  Desktop  Location 3  \n",
       "2         240.87                0  Desktop  Location 4  \n",
       "3         183.78                1  Desktop  Location 2  \n",
       "4          59.51                1   Tablet  Location 4  \n",
       "...          ...              ...      ...         ...  \n",
       "4995      278.92                0   Tablet  Location 5  \n",
       "4996       78.97                0   Tablet  Location 2  \n",
       "4997      139.42                1  Desktop  Location 4  \n",
       "4998      203.42                0  Desktop  Location 5  \n",
       "4999       84.15                1   Tablet  Location 3  \n",
       "\n",
       "[5000 rows x 10 columns]"
      ]
     },
     "execution_count": 3,
     "metadata": {},
     "output_type": "execute_result"
    }
   ],
   "source": [
    "df"
   ]
  },
  {
   "cell_type": "code",
   "execution_count": 4,
   "metadata": {},
   "outputs": [
    {
     "data": {
      "text/html": [
       "<div>\n",
       "<style scoped>\n",
       "    .dataframe tbody tr th:only-of-type {\n",
       "        vertical-align: middle;\n",
       "    }\n",
       "\n",
       "    .dataframe tbody tr th {\n",
       "        vertical-align: top;\n",
       "    }\n",
       "\n",
       "    .dataframe thead th {\n",
       "        text-align: right;\n",
       "    }\n",
       "</style>\n",
       "<table border=\"1\" class=\"dataframe\">\n",
       "  <thead>\n",
       "    <tr style=\"text-align: right;\">\n",
       "      <th></th>\n",
       "      <th>userID</th>\n",
       "      <th>age</th>\n",
       "      <th>sessions</th>\n",
       "      <th>time_spent</th>\n",
       "      <th>pages_visited</th>\n",
       "      <th>cart_items</th>\n",
       "      <th>cart_value</th>\n",
       "      <th>checkout_status</th>\n",
       "      <th>device</th>\n",
       "      <th>location</th>\n",
       "    </tr>\n",
       "  </thead>\n",
       "  <tbody>\n",
       "    <tr>\n",
       "      <th>count</th>\n",
       "      <td>5000.000000</td>\n",
       "      <td>5000.000000</td>\n",
       "      <td>5000.000000</td>\n",
       "      <td>5000.000000</td>\n",
       "      <td>5000.000000</td>\n",
       "      <td>5000.000000</td>\n",
       "      <td>5000.000000</td>\n",
       "      <td>5000.000000</td>\n",
       "      <td>4900</td>\n",
       "      <td>4970</td>\n",
       "    </tr>\n",
       "    <tr>\n",
       "      <th>unique</th>\n",
       "      <td>NaN</td>\n",
       "      <td>NaN</td>\n",
       "      <td>NaN</td>\n",
       "      <td>NaN</td>\n",
       "      <td>NaN</td>\n",
       "      <td>NaN</td>\n",
       "      <td>NaN</td>\n",
       "      <td>NaN</td>\n",
       "      <td>3</td>\n",
       "      <td>5</td>\n",
       "    </tr>\n",
       "    <tr>\n",
       "      <th>top</th>\n",
       "      <td>NaN</td>\n",
       "      <td>NaN</td>\n",
       "      <td>NaN</td>\n",
       "      <td>NaN</td>\n",
       "      <td>NaN</td>\n",
       "      <td>NaN</td>\n",
       "      <td>NaN</td>\n",
       "      <td>NaN</td>\n",
       "      <td>Desktop</td>\n",
       "      <td>Location 4</td>\n",
       "    </tr>\n",
       "    <tr>\n",
       "      <th>freq</th>\n",
       "      <td>NaN</td>\n",
       "      <td>NaN</td>\n",
       "      <td>NaN</td>\n",
       "      <td>NaN</td>\n",
       "      <td>NaN</td>\n",
       "      <td>NaN</td>\n",
       "      <td>NaN</td>\n",
       "      <td>NaN</td>\n",
       "      <td>2538</td>\n",
       "      <td>1056</td>\n",
       "    </tr>\n",
       "    <tr>\n",
       "      <th>mean</th>\n",
       "      <td>2500.500000</td>\n",
       "      <td>41.538200</td>\n",
       "      <td>5.027200</td>\n",
       "      <td>25.158496</td>\n",
       "      <td>5.774400</td>\n",
       "      <td>14.966400</td>\n",
       "      <td>149.443146</td>\n",
       "      <td>0.272400</td>\n",
       "      <td>NaN</td>\n",
       "      <td>NaN</td>\n",
       "    </tr>\n",
       "    <tr>\n",
       "      <th>std</th>\n",
       "      <td>1443.520003</td>\n",
       "      <td>14.042734</td>\n",
       "      <td>2.594958</td>\n",
       "      <td>9.825536</td>\n",
       "      <td>2.570842</td>\n",
       "      <td>6.046336</td>\n",
       "      <td>68.711683</td>\n",
       "      <td>0.445239</td>\n",
       "      <td>NaN</td>\n",
       "      <td>NaN</td>\n",
       "    </tr>\n",
       "    <tr>\n",
       "      <th>min</th>\n",
       "      <td>1.000000</td>\n",
       "      <td>18.000000</td>\n",
       "      <td>1.000000</td>\n",
       "      <td>1.000000</td>\n",
       "      <td>1.000000</td>\n",
       "      <td>5.000000</td>\n",
       "      <td>20.410000</td>\n",
       "      <td>0.000000</td>\n",
       "      <td>NaN</td>\n",
       "      <td>NaN</td>\n",
       "    </tr>\n",
       "    <tr>\n",
       "      <th>25%</th>\n",
       "      <td>1250.750000</td>\n",
       "      <td>29.000000</td>\n",
       "      <td>3.000000</td>\n",
       "      <td>18.268862</td>\n",
       "      <td>4.000000</td>\n",
       "      <td>10.000000</td>\n",
       "      <td>92.482500</td>\n",
       "      <td>0.000000</td>\n",
       "      <td>NaN</td>\n",
       "      <td>NaN</td>\n",
       "    </tr>\n",
       "    <tr>\n",
       "      <th>50%</th>\n",
       "      <td>2500.500000</td>\n",
       "      <td>42.000000</td>\n",
       "      <td>5.000000</td>\n",
       "      <td>25.035361</td>\n",
       "      <td>6.000000</td>\n",
       "      <td>15.000000</td>\n",
       "      <td>143.440000</td>\n",
       "      <td>0.000000</td>\n",
       "      <td>NaN</td>\n",
       "      <td>NaN</td>\n",
       "    </tr>\n",
       "    <tr>\n",
       "      <th>75%</th>\n",
       "      <td>3750.250000</td>\n",
       "      <td>54.000000</td>\n",
       "      <td>7.000000</td>\n",
       "      <td>32.000361</td>\n",
       "      <td>8.000000</td>\n",
       "      <td>20.000000</td>\n",
       "      <td>198.380000</td>\n",
       "      <td>1.000000</td>\n",
       "      <td>NaN</td>\n",
       "      <td>NaN</td>\n",
       "    </tr>\n",
       "    <tr>\n",
       "      <th>max</th>\n",
       "      <td>5000.000000</td>\n",
       "      <td>65.000000</td>\n",
       "      <td>9.000000</td>\n",
       "      <td>90.000000</td>\n",
       "      <td>12.000000</td>\n",
       "      <td>25.000000</td>\n",
       "      <td>427.400000</td>\n",
       "      <td>1.000000</td>\n",
       "      <td>NaN</td>\n",
       "      <td>NaN</td>\n",
       "    </tr>\n",
       "  </tbody>\n",
       "</table>\n",
       "</div>"
      ],
      "text/plain": [
       "             userID          age     sessions   time_spent  pages_visited   \n",
       "count   5000.000000  5000.000000  5000.000000  5000.000000    5000.000000  \\\n",
       "unique          NaN          NaN          NaN          NaN            NaN   \n",
       "top             NaN          NaN          NaN          NaN            NaN   \n",
       "freq            NaN          NaN          NaN          NaN            NaN   \n",
       "mean    2500.500000    41.538200     5.027200    25.158496       5.774400   \n",
       "std     1443.520003    14.042734     2.594958     9.825536       2.570842   \n",
       "min        1.000000    18.000000     1.000000     1.000000       1.000000   \n",
       "25%     1250.750000    29.000000     3.000000    18.268862       4.000000   \n",
       "50%     2500.500000    42.000000     5.000000    25.035361       6.000000   \n",
       "75%     3750.250000    54.000000     7.000000    32.000361       8.000000   \n",
       "max     5000.000000    65.000000     9.000000    90.000000      12.000000   \n",
       "\n",
       "         cart_items   cart_value  checkout_status   device    location  \n",
       "count   5000.000000  5000.000000      5000.000000     4900        4970  \n",
       "unique          NaN          NaN              NaN        3           5  \n",
       "top             NaN          NaN              NaN  Desktop  Location 4  \n",
       "freq            NaN          NaN              NaN     2538        1056  \n",
       "mean      14.966400   149.443146         0.272400      NaN         NaN  \n",
       "std        6.046336    68.711683         0.445239      NaN         NaN  \n",
       "min        5.000000    20.410000         0.000000      NaN         NaN  \n",
       "25%       10.000000    92.482500         0.000000      NaN         NaN  \n",
       "50%       15.000000   143.440000         0.000000      NaN         NaN  \n",
       "75%       20.000000   198.380000         1.000000      NaN         NaN  \n",
       "max       25.000000   427.400000         1.000000      NaN         NaN  "
      ]
     },
     "execution_count": 4,
     "metadata": {},
     "output_type": "execute_result"
    }
   ],
   "source": [
    "df.describe(include = 'all')\n"
   ]
  },
  {
   "cell_type": "code",
   "execution_count": 5,
   "metadata": {},
   "outputs": [
    {
     "name": "stdout",
     "output_type": "stream",
     "text": [
      "<class 'pandas.core.frame.DataFrame'>\n",
      "RangeIndex: 5000 entries, 0 to 4999\n",
      "Data columns (total 10 columns):\n",
      " #   Column           Non-Null Count  Dtype  \n",
      "---  ------           --------------  -----  \n",
      " 0   userID           5000 non-null   int64  \n",
      " 1   age              5000 non-null   int64  \n",
      " 2   sessions         5000 non-null   int64  \n",
      " 3   time_spent       5000 non-null   float64\n",
      " 4   pages_visited    5000 non-null   int64  \n",
      " 5   cart_items       5000 non-null   int64  \n",
      " 6   cart_value       5000 non-null   float64\n",
      " 7   checkout_status  5000 non-null   int64  \n",
      " 8   device           4900 non-null   object \n",
      " 9   location         4970 non-null   object \n",
      "dtypes: float64(2), int64(6), object(2)\n",
      "memory usage: 390.8+ KB\n"
     ]
    }
   ],
   "source": [
    "df.info()"
   ]
  },
  {
   "cell_type": "code",
   "execution_count": 7,
   "metadata": {},
   "outputs": [
    {
     "name": "stdout",
     "output_type": "stream",
     "text": [
      "<class 'pandas.core.frame.DataFrame'>\n",
      "Index: 4871 entries, 0 to 4999\n",
      "Data columns (total 10 columns):\n",
      " #   Column           Non-Null Count  Dtype  \n",
      "---  ------           --------------  -----  \n",
      " 0   userID           4871 non-null   int64  \n",
      " 1   age              4871 non-null   int64  \n",
      " 2   sessions         4871 non-null   int64  \n",
      " 3   time_spent       4871 non-null   float64\n",
      " 4   pages_visited    4871 non-null   int64  \n",
      " 5   cart_items       4871 non-null   int64  \n",
      " 6   cart_value       4871 non-null   float64\n",
      " 7   checkout_status  4871 non-null   int64  \n",
      " 8   device           4871 non-null   object \n",
      " 9   location         4871 non-null   object \n",
      "dtypes: float64(2), int64(6), object(2)\n",
      "memory usage: 418.6+ KB\n"
     ]
    }
   ],
   "source": [
    "df = df.dropna()\n",
    "df.info()"
   ]
  },
  {
   "cell_type": "code",
   "execution_count": 8,
   "metadata": {},
   "outputs": [
    {
     "name": "stdout",
     "output_type": "stream",
     "text": [
      "<class 'pandas.core.frame.DataFrame'>\n",
      "Index: 4871 entries, 0 to 4999\n",
      "Data columns (total 10 columns):\n",
      " #   Column           Non-Null Count  Dtype  \n",
      "---  ------           --------------  -----  \n",
      " 0   userID           4871 non-null   int64  \n",
      " 1   age              4871 non-null   int64  \n",
      " 2   sessions         4871 non-null   int64  \n",
      " 3   time_spent       4871 non-null   float64\n",
      " 4   pages_visited    4871 non-null   int64  \n",
      " 5   cart_items       4871 non-null   int64  \n",
      " 6   cart_value       4871 non-null   float64\n",
      " 7   checkout_status  4871 non-null   int64  \n",
      " 8   device           4871 non-null   object \n",
      " 9   location         4871 non-null   object \n",
      "dtypes: float64(2), int64(6), object(2)\n",
      "memory usage: 418.6+ KB\n"
     ]
    }
   ],
   "source": [
    "# cleaning the dataframe by dropping the duplications \n",
    "df = df.drop_duplicates()\n",
    "df.info()"
   ]
  },
  {
   "cell_type": "code",
   "execution_count": 9,
   "metadata": {},
   "outputs": [
    {
     "data": {
      "text/plain": [
       "<Axes: >"
      ]
     },
     "execution_count": 9,
     "metadata": {},
     "output_type": "execute_result"
    },
    {
     "data": {
      "image/png": "[encoded data removed]",
      "text/plain": [
       "<Figure size 640x480 with 1 Axes>"
      ]
     },
     "metadata": {},
     "output_type": "display_data"
    }
   ],
   "source": [
    "sns.boxplot(df.age)\n"
   ]
  },
  {
   "cell_type": "code",
   "execution_count": 32,
   "metadata": {},
   "outputs": [
    {
     "data": {
      "text/plain": [
       "<Axes: >"
      ]
     },
     "execution_count": 32,
     "metadata": {},
     "output_type": "execute_result"
    },
    {
     "data": {
      "image/png": "[encoded data removed]",
      "text/plain": [
       "<Figure size 640x480 with 1 Axes>"
      ]
     },
     "metadata": {},
     "output_type": "display_data"
    }
   ],
   "source": [
    "sns.boxplot(df.time_spent)\n"
   ]
  },
  {
   "cell_type": "code",
   "execution_count": 22,
   "metadata": {},
   "outputs": [
    {
     "name": "stdout",
     "output_type": "stream",
     "text": [
      "Mean time spent: 25.172037689880312\n",
      "Standard deviation of time spent: 9.821863766041531\n"
     ]
    }
   ],
   "source": [
    "import pandas as pd\n",
    "\n",
    "mean_time_spent = df['time_spent'].mean()\n",
    "std_time_spent = df['time_spent'].std()\n",
    "\n",
    "print(\"Mean time spent:\", mean_time_spent)\n",
    "print(\"Standard deviation of time spent:\", std_time_spent)\n"
   ]
  },
  {
   "cell_type": "code",
   "execution_count": 24,
   "metadata": {},
   "outputs": [
    {
     "data": {
      "text/plain": [
       "<Axes: >"
      ]
     },
     "execution_count": 24,
     "metadata": {},
     "output_type": "execute_result"
    },
    {
     "data": {
      "image/png": "[encoded data removed]",
      "text/plain": [
       "<Figure size 640x480 with 1 Axes>"
      ]
     },
     "metadata": {},
     "output_type": "display_data"
    }
   ],
   "source": [
    "\n",
    "\n",
    "df = df.drop(df[df['time_spent'] > 54.638].index)\n",
    "sns.boxplot(df.time_spent)\n"
   ]
  },
  {
   "cell_type": "code",
   "execution_count": 26,
   "metadata": {},
   "outputs": [
    {
     "name": "stdout",
     "output_type": "stream",
     "text": [
      "<class 'pandas.core.frame.DataFrame'>\n",
      "Index: 4867 entries, 0 to 4999\n",
      "Data columns (total 11 columns):\n",
      " #   Column             Non-Null Count  Dtype  \n",
      "---  ------             --------------  -----  \n",
      " 0   userID             4867 non-null   int64  \n",
      " 1   age                4867 non-null   int64  \n",
      " 2   sessions           4867 non-null   int64  \n",
      " 3   time_spent         4867 non-null   float64\n",
      " 4   pages_visited      4867 non-null   int64  \n",
      " 5   cart_items         4867 non-null   int64  \n",
      " 6   cart_value         4867 non-null   float64\n",
      " 7   checkout_status    4867 non-null   int64  \n",
      " 8   device             4867 non-null   object \n",
      " 9   location           4867 non-null   object \n",
      " 10  time_spent_zscore  4867 non-null   float64\n",
      "dtypes: float64(3), int64(6), object(2)\n",
      "memory usage: 585.3+ KB\n"
     ]
    }
   ],
   "source": [
    "df.info()"
   ]
  },
  {
   "cell_type": "code",
   "execution_count": 25,
   "metadata": {},
   "outputs": [
    {
     "data": {
      "text/plain": [
       "<Axes: >"
      ]
     },
     "execution_count": 25,
     "metadata": {},
     "output_type": "execute_result"
    },
    {
     "data": {
      "image/png": "[encoded data removed]",
      "text/plain": [
       "<Figure size 640x480 with 1 Axes>"
      ]
     },
     "metadata": {},
     "output_type": "display_data"
    }
   ],
   "source": [
    "sns.boxplot(df.pages_visited)\n"
   ]
  },
  {
   "cell_type": "code",
   "execution_count": 27,
   "metadata": {},
   "outputs": [
    {
     "data": {
      "text/plain": [
       "<Axes: >"
      ]
     },
     "execution_count": 27,
     "metadata": {},
     "output_type": "execute_result"
    },
    {
     "data": {
      "image/png": "[encoded data removed]",
      "text/plain": [
       "<Figure size 640x480 with 1 Axes>"
      ]
     },
     "metadata": {},
     "output_type": "display_data"
    }
   ],
   "source": [
    "sns.boxplot(df.cart_items)\n"
   ]
  },
  {
   "cell_type": "code",
   "execution_count": 28,
   "metadata": {},
   "outputs": [
    {
     "data": {
      "text/plain": [
       "<Axes: >"
      ]
     },
     "execution_count": 28,
     "metadata": {},
     "output_type": "execute_result"
    },
    {
     "data": {
      "image/png": "[encoded data removed]",
      "text/plain": [
       "<Figure size 640x480 with 1 Axes>"
      ]
     },
     "metadata": {},
     "output_type": "display_data"
    }
   ],
   "source": [
    "sns.boxplot(df.cart_value)\n"
   ]
  },
  {
   "cell_type": "code",
   "execution_count": 29,
   "metadata": {},
   "outputs": [
    {
     "name": "stdout",
     "output_type": "stream",
     "text": [
      "Mean:  149.45554345592768\n",
      "Standard Deviation:  68.82480210356329\n"
     ]
    }
   ],
   "source": [
    "mean_value = df['cart_value'].mean()\n",
    "std_value = df['cart_value'].std()\n",
    "\n",
    "print(\"Mean: \", mean_value)\n",
    "print(\"Standard Deviation: \", std_value)"
   ]
  },
  {
   "cell_type": "code",
   "execution_count": 30,
   "metadata": {},
   "outputs": [
    {
     "data": {
      "text/plain": [
       "<Axes: >"
      ]
     },
     "execution_count": 30,
     "metadata": {},
     "output_type": "execute_result"
    },
    {
     "data": {
      "image/png": "[encoded data removed]",
      "text/plain": [
       "<Figure size 640x480 with 1 Axes>"
      ]
     },
     "metadata": {},
     "output_type": "display_data"
    }
   ],
   "source": [
    "df = df.drop(df[df['cart_value'] > 355.93].index)\n",
    "\n",
    "# Print the updated DataFrame\n",
    "\n",
    "sns.boxplot(df.cart_value)"
   ]
  },
  {
   "cell_type": "code",
   "execution_count": 31,
   "metadata": {},
   "outputs": [
    {
     "name": "stdout",
     "output_type": "stream",
     "text": [
      "<class 'pandas.core.frame.DataFrame'>\n",
      "Index: 4856 entries, 0 to 4999\n",
      "Data columns (total 11 columns):\n",
      " #   Column             Non-Null Count  Dtype  \n",
      "---  ------             --------------  -----  \n",
      " 0   userID             4856 non-null   int64  \n",
      " 1   age                4856 non-null   int64  \n",
      " 2   sessions           4856 non-null   int64  \n",
      " 3   time_spent         4856 non-null   float64\n",
      " 4   pages_visited      4856 non-null   int64  \n",
      " 5   cart_items         4856 non-null   int64  \n",
      " 6   cart_value         4856 non-null   float64\n",
      " 7   checkout_status    4856 non-null   int64  \n",
      " 8   device             4856 non-null   object \n",
      " 9   location           4856 non-null   object \n",
      " 10  time_spent_zscore  4856 non-null   float64\n",
      "dtypes: float64(3), int64(6), object(2)\n",
      "memory usage: 584.3+ KB\n"
     ]
    }
   ],
   "source": [
    "df.info()"
   ]
  },
  {
   "cell_type": "code",
   "execution_count": null,
   "metadata": {},
   "outputs": [],
   "source": []
  },
  {
   "attachments": {},
   "cell_type": "markdown",
   "metadata": {},
   "source": [
    "task 2\n",
    "-from line 3, first we observe the dataframe to better understand it and from line 5, we check if there is any null exist in the dataframe. From here, we can tell there is null value exist under device and location column.\n",
    "-From line 7, we remove the null value under device and location column by using \n",
    "df = df.dropna() and check the dataframe to see whether the null value is droped \n",
    "-cleaning the dataframe further by checking duplications and dropping the duplications by using function  df = df.drop_duplicates(). From here, we can tell there is no duplications\n",
    "-Check each column to see if there is outliers first check age column using bosplot by using function  sns.boxplot(df.age). We can tell there is no outliers  under age column\n",
    "-Check time_spent column to see if there is outliers using boxplot by using function  sns.boxplot(df.time_spent). We can tell there is outliers around 90 above mean\n",
    "- Fron line 22 we remove the outliers by finding the mean and Standard deviation of time spent \n",
    "Observations with z-scores above a certain threshold  ±3 can be considered outliers.By using functions\n",
    "df = df.drop(df[df['time_spent'] > 54.638.index)\n",
    "after remove the outliers we can see by boxplot there is no more outliers \n",
    "-Line 25 ,27 we check if there is any outliers under column pages_visited and cart_items by using boxplot and the result is no outliers for these two columns.\n",
    "-from line 28, we can see there are outliers for column cart_value by using boxplot \n",
    "sns.boxplot(df.cart_value)\n",
    "-And  we remove the outliers by finding the mean and Standard deviation of cart_items column \n",
    "Observations with z-scores above a certain threshold  ±3 can be considered outliers.By using functions\n",
    "df = df.drop(df[df['cart_value'] > 355.93.index)\n",
    "after remove the outliers we can see by boxplot there is no more outliers in cart_items column\n",
    "- Finished the datacleaning process by removing null value,duplications and outliers.\n",
    "\n",
    "\n",
    "\n"
   ]
  },
  {
   "cell_type": "code",
   "execution_count": 38,
   "metadata": {},
   "outputs": [
    {
     "name": "stdout",
     "output_type": "stream",
     "text": [
      "Mean time spent when checkout_status is 1: 31.318157090728228\n"
     ]
    }
   ],
   "source": [
    "mean_time_spent_checkout_1 = df[df['checkout_status'] == 1]['time_spent'].mean()\n",
    "\n",
    "print(\"Mean time spent when checkout_status is 1:\", mean_time_spent_checkout_1)\n"
   ]
  },
  {
   "cell_type": "code",
   "execution_count": 40,
   "metadata": {},
   "outputs": [
    {
     "name": "stdout",
     "output_type": "stream",
     "text": [
      "Mean time spent when checkout_status is 0: 22.77583136715579\n"
     ]
    }
   ],
   "source": [
    "mean_time_spent_checkout_0 = df[df['checkout_status'] == 0]['time_spent'].mean()\n",
    "\n",
    "print(\"Mean time spent when checkout_status is 0:\", mean_time_spent_checkout_0)\n"
   ]
  },
  {
   "cell_type": "code",
   "execution_count": 41,
   "metadata": {},
   "outputs": [
    {
     "name": "stdout",
     "output_type": "stream",
     "text": [
      "T-statistic: 29.95122234156349\n",
      "P-value: 5.187534581250569e-181\n"
     ]
    }
   ],
   "source": [
    "from scipy import stats\n",
    "\n",
    "time_spent_checkout_1 = df[df['checkout_status'] == 1]['time_spent']\n",
    "time_spent_checkout_0 = df[df['checkout_status'] == 0]['time_spent']\n",
    "\n",
    "t_statistic, p_value = stats.ttest_ind(time_spent_checkout_1, time_spent_checkout_0)\n",
    "\n",
    "print(\"T-statistic:\", t_statistic)\n",
    "print(\"P-value:\", p_value)"
   ]
  },
  {
   "attachments": {},
   "cell_type": "markdown",
   "metadata": {},
   "source": [
    "The null hypothesis of t test will be \n",
    "H0: there is no significant difference between the mean values of 'time_spent' for the two checkout statuses.\n",
    "\n",
    "After conduct statistical testing: T test between Group time_spent_checkout_1 and Group time_spent_checkout_0, we can see that the result is T-statistic: 29.95122234156349     P-value: 5.187534581250569e-181.\n",
    "    The t-value of 29.95122234156349 indicates a great magnitude of the difference between the means of the Group time_spent_checkout_1 and Group time_spent_checkout_0\n",
    "The p-value of 5.187534581250569e-181 a number vary close to zero assuming that the null hypothesis (no difference between the means of Group time_spent_checkout_1 and Group time_spent_checkout_0) is true. In this case, the p-value is extremely small, indicating strong evidence against the null hypothesis.suggests that the observed difference between the means is unlikely to occur by chance alone\n",
    "    The sample size of 4856 is relatively large, which increases the statistical power of the test and improves the reliability of the results.\n",
    "In summary, based on the t-value of 29.95122234156349, The p-value of 5.187534581250569e-181, and the relatively large sample size,The concludsion can be made that there is a statistically significant difference between Group time_spent_checkout_1 and Group time_spent_checkout_0\n",
    "\n",
    "Based on my analysis, I can conclude about the average time spent of users who complete check out is significant greater then those who do not check out"
   ]
  },
  {
   "cell_type": "code",
   "execution_count": 42,
   "metadata": {},
   "outputs": [
    {
     "data": {
      "image/png": "[encoded data removed]",
      "text/plain": [
       "<Figure size 640x480 with 1 Axes>"
      ]
     },
     "metadata": {},
     "output_type": "display_data"
    }
   ],
   "source": [
    "\n",
    "\n",
    "\n",
    "# Filter the DataFrame for checkout_status = 1\n",
    "df_checkout = df[df['checkout_status'] == 1]\n",
    "\n",
    "# Group the data by age and calculate the mean cart_value for each age group\n",
    "age_groups = df_checkout.groupby('age')['cart_value'].mean()\n",
    "\n",
    "# Plot the mean cart_value for each age group\n",
    "age_groups.plot(kind='bar')\n",
    "plt.xlabel('Age Group')\n",
    "plt.ylabel('Mean Cart Value')\n",
    "plt.title('Mean Cart Value by Age Group (Checked Out)')\n",
    "plt.show()\n"
   ]
  },
  {
   "cell_type": "code",
   "execution_count": 49,
   "metadata": {},
   "outputs": [
    {
     "data": {
      "image/png": "[encoded data removed]",
      "text/plain": [
       "<Figure size 640x480 with 1 Axes>"
      ]
     },
     "metadata": {},
     "output_type": "display_data"
    }
   ],
   "source": [
    "\n",
    "# Define the age groups\n",
    "age_groups = ['18-25', '25-32', '32-39','39-46','46-53','53 and above']\n",
    "\n",
    "# Filter the data for checkout_status = 1\n",
    "data_checkout = df[df['checkout_status'] == 1]\n",
    "\n",
    "# Calculate the mean cart_value for each age group\n",
    "mean_values = data_checkout.groupby(pd.cut(data_checkout['age'], [18, 25, 32, 39,46,53 ,float('inf')], right=False, labels=age_groups))['cart_value'].mean()\n",
    "\n",
    "# Plot the bar chart\n",
    "plt.bar(mean_values.index, mean_values)\n",
    "plt.xlabel('Age Group')\n",
    "plt.ylabel('Mean Cart Value')\n",
    "plt.title('Mean Cart Value by Age Group (Checkout Status = 1)')\n",
    "plt.show()\n"
   ]
  },
  {
   "cell_type": "code",
   "execution_count": 50,
   "metadata": {},
   "outputs": [
    {
     "data": {
      "image/png": "[encoded data removed]",
      "text/plain": [
       "<Figure size 640x480 with 1 Axes>"
      ]
     },
     "metadata": {},
     "output_type": "display_data"
    }
   ],
   "source": [
    "\n",
    "# Define age group\n",
    "age_group = '46-53'\n",
    "\n",
    "# Filter data for the specified age group\n",
    "filtered_data = df[(df['age'] >= 46) & (df['age'] <= 53)]\n",
    "\n",
    "grouped_data = filtered_data.groupby('cart_items')['cart_value'].sum()\n",
    "\n",
    "sorted_data = grouped_data.sort_values(ascending=False)\n",
    "\n",
    "plt.bar(sorted_data.index, sorted_data)\n",
    "plt.xlabel('Cart Items')\n",
    "plt.ylabel('Total Cart Value')\n",
    "plt.title('Total Cart Value by Cart Items (Age Group: 46-53)')\n",
    "plt.xticks(rotation=45)\n",
    "plt.show()\n"
   ]
  },
  {
   "attachments": {},
   "cell_type": "markdown",
   "metadata": {},
   "source": [
    "From the above analysis and visualization the recommendations  you have for the product team is:\n",
    "1. To maximize the revenue ,target the user between age 46 - age 53 becuase base on analysis, on average they have more purchasing power compare to other age group\n",
    "2. Item 22,23,24,25 have a better total revenue for the user between age 46 - age 53 especially Item #23 have the best sales performance. I recommend invest more into item #23 into the market."
   ]
  }
 ],
 "metadata": {
  "kernelspec": {
   "display_name": "Python 3",
   "language": "python",
   "name": "python3"
  },
  "language_info": {
   "codemirror_mode": {
    "name": "ipython",
    "version": 3
   },
   "file_extension": ".py",
   "mimetype": "text/x-python",
   "name": "python",
   "nbconvert_exporter": "python",
   "pygments_lexer": "ipython3",
   "version": "3.11.3"
  },
  "orig_nbformat": 4
 },
 "nbformat": 4,
 "nbformat_minor": 2
}
