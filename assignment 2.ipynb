{
 "cells": [
  {
   "cell_type": "code",
   "execution_count": 47,
   "metadata": {},
   "outputs": [],
   "source": [
    "import numpy as np\n",
    "import pandas as pd\n",
    "from scipy import stats\n",
    "import seaborn as sns"
   ]
  },
  {
   "cell_type": "code",
   "execution_count": 48,
   "metadata": {},
   "outputs": [],
   "source": [
    "df=pd.read_csv('/Users/angelis/Downloads/experiment_dataset.csv')"
   ]
  },
  {
   "cell_type": "code",
   "execution_count": 49,
   "metadata": {},
   "outputs": [
    {
     "data": {
      "text/html": [
       "<div>\n",
       "<style scoped>\n",
       "    .dataframe tbody tr th:only-of-type {\n",
       "        vertical-align: middle;\n",
       "    }\n",
       "\n",
       "    .dataframe tbody tr th {\n",
       "        vertical-align: top;\n",
       "    }\n",
       "\n",
       "    .dataframe thead th {\n",
       "        text-align: right;\n",
       "    }\n",
       "</style>\n",
       "<table border=\"1\" class=\"dataframe\">\n",
       "  <thead>\n",
       "    <tr style=\"text-align: right;\">\n",
       "      <th></th>\n",
       "      <th>Unnamed: 0</th>\n",
       "      <th>Age</th>\n",
       "      <th>Location</th>\n",
       "      <th>Device</th>\n",
       "      <th>Variant</th>\n",
       "      <th>Time Spent</th>\n",
       "      <th>CTR</th>\n",
       "    </tr>\n",
       "  </thead>\n",
       "  <tbody>\n",
       "    <tr>\n",
       "      <th>count</th>\n",
       "      <td>1000.000000</td>\n",
       "      <td>1000.000000</td>\n",
       "      <td>1000</td>\n",
       "      <td>1000</td>\n",
       "      <td>1000</td>\n",
       "      <td>1000.000000</td>\n",
       "      <td>1000.000000</td>\n",
       "    </tr>\n",
       "    <tr>\n",
       "      <th>unique</th>\n",
       "      <td>NaN</td>\n",
       "      <td>NaN</td>\n",
       "      <td>3</td>\n",
       "      <td>3</td>\n",
       "      <td>3</td>\n",
       "      <td>NaN</td>\n",
       "      <td>NaN</td>\n",
       "    </tr>\n",
       "    <tr>\n",
       "      <th>top</th>\n",
       "      <td>NaN</td>\n",
       "      <td>NaN</td>\n",
       "      <td>Location2</td>\n",
       "      <td>Device3</td>\n",
       "      <td>Control</td>\n",
       "      <td>NaN</td>\n",
       "      <td>NaN</td>\n",
       "    </tr>\n",
       "    <tr>\n",
       "      <th>freq</th>\n",
       "      <td>NaN</td>\n",
       "      <td>NaN</td>\n",
       "      <td>343</td>\n",
       "      <td>346</td>\n",
       "      <td>340</td>\n",
       "      <td>NaN</td>\n",
       "      <td>NaN</td>\n",
       "    </tr>\n",
       "    <tr>\n",
       "      <th>mean</th>\n",
       "      <td>499.500000</td>\n",
       "      <td>40.715000</td>\n",
       "      <td>NaN</td>\n",
       "      <td>NaN</td>\n",
       "      <td>NaN</td>\n",
       "      <td>22.713345</td>\n",
       "      <td>0.109145</td>\n",
       "    </tr>\n",
       "    <tr>\n",
       "      <th>std</th>\n",
       "      <td>288.819436</td>\n",
       "      <td>13.655557</td>\n",
       "      <td>NaN</td>\n",
       "      <td>NaN</td>\n",
       "      <td>NaN</td>\n",
       "      <td>5.479292</td>\n",
       "      <td>0.022366</td>\n",
       "    </tr>\n",
       "    <tr>\n",
       "      <th>min</th>\n",
       "      <td>0.000000</td>\n",
       "      <td>18.000000</td>\n",
       "      <td>NaN</td>\n",
       "      <td>NaN</td>\n",
       "      <td>NaN</td>\n",
       "      <td>7.114806</td>\n",
       "      <td>0.012975</td>\n",
       "    </tr>\n",
       "    <tr>\n",
       "      <th>25%</th>\n",
       "      <td>249.750000</td>\n",
       "      <td>28.000000</td>\n",
       "      <td>NaN</td>\n",
       "      <td>NaN</td>\n",
       "      <td>NaN</td>\n",
       "      <td>19.216608</td>\n",
       "      <td>0.094286</td>\n",
       "    </tr>\n",
       "    <tr>\n",
       "      <th>50%</th>\n",
       "      <td>499.500000</td>\n",
       "      <td>41.000000</td>\n",
       "      <td>NaN</td>\n",
       "      <td>NaN</td>\n",
       "      <td>NaN</td>\n",
       "      <td>22.506707</td>\n",
       "      <td>0.108944</td>\n",
       "    </tr>\n",
       "    <tr>\n",
       "      <th>75%</th>\n",
       "      <td>749.250000</td>\n",
       "      <td>53.000000</td>\n",
       "      <td>NaN</td>\n",
       "      <td>NaN</td>\n",
       "      <td>NaN</td>\n",
       "      <td>26.255950</td>\n",
       "      <td>0.124238</td>\n",
       "    </tr>\n",
       "    <tr>\n",
       "      <th>max</th>\n",
       "      <td>999.000000</td>\n",
       "      <td>64.000000</td>\n",
       "      <td>NaN</td>\n",
       "      <td>NaN</td>\n",
       "      <td>NaN</td>\n",
       "      <td>39.395770</td>\n",
       "      <td>0.172728</td>\n",
       "    </tr>\n",
       "  </tbody>\n",
       "</table>\n",
       "</div>"
      ],
      "text/plain": [
       "         Unnamed: 0          Age   Location   Device  Variant   Time Spent   \n",
       "count   1000.000000  1000.000000       1000     1000     1000  1000.000000  \\\n",
       "unique          NaN          NaN          3        3        3          NaN   \n",
       "top             NaN          NaN  Location2  Device3  Control          NaN   \n",
       "freq            NaN          NaN        343      346      340          NaN   \n",
       "mean     499.500000    40.715000        NaN      NaN      NaN    22.713345   \n",
       "std      288.819436    13.655557        NaN      NaN      NaN     5.479292   \n",
       "min        0.000000    18.000000        NaN      NaN      NaN     7.114806   \n",
       "25%      249.750000    28.000000        NaN      NaN      NaN    19.216608   \n",
       "50%      499.500000    41.000000        NaN      NaN      NaN    22.506707   \n",
       "75%      749.250000    53.000000        NaN      NaN      NaN    26.255950   \n",
       "max      999.000000    64.000000        NaN      NaN      NaN    39.395770   \n",
       "\n",
       "                CTR  \n",
       "count   1000.000000  \n",
       "unique          NaN  \n",
       "top             NaN  \n",
       "freq            NaN  \n",
       "mean       0.109145  \n",
       "std        0.022366  \n",
       "min        0.012975  \n",
       "25%        0.094286  \n",
       "50%        0.108944  \n",
       "75%        0.124238  \n",
       "max        0.172728  "
      ]
     },
     "execution_count": 49,
     "metadata": {},
     "output_type": "execute_result"
    }
   ],
   "source": [
    "df.describe(include='all')\n"
   ]
  },
  {
   "cell_type": "code",
   "execution_count": 70,
   "metadata": {},
   "outputs": [
    {
     "name": "stdout",
     "output_type": "stream",
     "text": [
      "<class 'pandas.core.frame.DataFrame'>\n",
      "RangeIndex: 1000 entries, 0 to 999\n",
      "Data columns (total 7 columns):\n",
      " #   Column      Non-Null Count  Dtype  \n",
      "---  ------      --------------  -----  \n",
      " 0   Unnamed: 0  1000 non-null   int64  \n",
      " 1   Age         1000 non-null   int64  \n",
      " 2   Location    1000 non-null   object \n",
      " 3   Device      1000 non-null   object \n",
      " 4   Variant     1000 non-null   object \n",
      " 5   Time Spent  1000 non-null   float64\n",
      " 6   CTR         1000 non-null   float64\n",
      "dtypes: float64(2), int64(2), object(3)\n",
      "memory usage: 54.8+ KB\n"
     ]
    }
   ],
   "source": [
    "df.info()\n",
    "# From here, we can tell that the dataframe does not have null value "
   ]
  },
  {
   "cell_type": "code",
   "execution_count": 71,
   "metadata": {},
   "outputs": [],
   "source": [
    "df = df.drop_duplicates()\n",
    "# Do the data cleaning to see if there is any duplications "
   ]
  },
  {
   "cell_type": "code",
   "execution_count": 73,
   "metadata": {},
   "outputs": [
    {
     "data": {
      "text/html": [
       "<div>\n",
       "<style scoped>\n",
       "    .dataframe tbody tr th:only-of-type {\n",
       "        vertical-align: middle;\n",
       "    }\n",
       "\n",
       "    .dataframe tbody tr th {\n",
       "        vertical-align: top;\n",
       "    }\n",
       "\n",
       "    .dataframe thead th {\n",
       "        text-align: right;\n",
       "    }\n",
       "</style>\n",
       "<table border=\"1\" class=\"dataframe\">\n",
       "  <thead>\n",
       "    <tr style=\"text-align: right;\">\n",
       "      <th></th>\n",
       "      <th>Unnamed: 0</th>\n",
       "      <th>Age</th>\n",
       "      <th>Location</th>\n",
       "      <th>Device</th>\n",
       "      <th>Variant</th>\n",
       "      <th>Time Spent</th>\n",
       "      <th>CTR</th>\n",
       "    </tr>\n",
       "  </thead>\n",
       "  <tbody>\n",
       "    <tr>\n",
       "      <th>count</th>\n",
       "      <td>1000.000000</td>\n",
       "      <td>1000.000000</td>\n",
       "      <td>1000</td>\n",
       "      <td>1000</td>\n",
       "      <td>1000</td>\n",
       "      <td>1000.000000</td>\n",
       "      <td>1000.000000</td>\n",
       "    </tr>\n",
       "    <tr>\n",
       "      <th>unique</th>\n",
       "      <td>NaN</td>\n",
       "      <td>NaN</td>\n",
       "      <td>3</td>\n",
       "      <td>3</td>\n",
       "      <td>3</td>\n",
       "      <td>NaN</td>\n",
       "      <td>NaN</td>\n",
       "    </tr>\n",
       "    <tr>\n",
       "      <th>top</th>\n",
       "      <td>NaN</td>\n",
       "      <td>NaN</td>\n",
       "      <td>Location2</td>\n",
       "      <td>Device3</td>\n",
       "      <td>Control</td>\n",
       "      <td>NaN</td>\n",
       "      <td>NaN</td>\n",
       "    </tr>\n",
       "    <tr>\n",
       "      <th>freq</th>\n",
       "      <td>NaN</td>\n",
       "      <td>NaN</td>\n",
       "      <td>343</td>\n",
       "      <td>346</td>\n",
       "      <td>340</td>\n",
       "      <td>NaN</td>\n",
       "      <td>NaN</td>\n",
       "    </tr>\n",
       "    <tr>\n",
       "      <th>mean</th>\n",
       "      <td>499.500000</td>\n",
       "      <td>40.715000</td>\n",
       "      <td>NaN</td>\n",
       "      <td>NaN</td>\n",
       "      <td>NaN</td>\n",
       "      <td>22.713345</td>\n",
       "      <td>0.109145</td>\n",
       "    </tr>\n",
       "    <tr>\n",
       "      <th>std</th>\n",
       "      <td>288.819436</td>\n",
       "      <td>13.655557</td>\n",
       "      <td>NaN</td>\n",
       "      <td>NaN</td>\n",
       "      <td>NaN</td>\n",
       "      <td>5.479292</td>\n",
       "      <td>0.022366</td>\n",
       "    </tr>\n",
       "    <tr>\n",
       "      <th>min</th>\n",
       "      <td>0.000000</td>\n",
       "      <td>18.000000</td>\n",
       "      <td>NaN</td>\n",
       "      <td>NaN</td>\n",
       "      <td>NaN</td>\n",
       "      <td>7.114806</td>\n",
       "      <td>0.012975</td>\n",
       "    </tr>\n",
       "    <tr>\n",
       "      <th>25%</th>\n",
       "      <td>249.750000</td>\n",
       "      <td>28.000000</td>\n",
       "      <td>NaN</td>\n",
       "      <td>NaN</td>\n",
       "      <td>NaN</td>\n",
       "      <td>19.216608</td>\n",
       "      <td>0.094286</td>\n",
       "    </tr>\n",
       "    <tr>\n",
       "      <th>50%</th>\n",
       "      <td>499.500000</td>\n",
       "      <td>41.000000</td>\n",
       "      <td>NaN</td>\n",
       "      <td>NaN</td>\n",
       "      <td>NaN</td>\n",
       "      <td>22.506707</td>\n",
       "      <td>0.108944</td>\n",
       "    </tr>\n",
       "    <tr>\n",
       "      <th>75%</th>\n",
       "      <td>749.250000</td>\n",
       "      <td>53.000000</td>\n",
       "      <td>NaN</td>\n",
       "      <td>NaN</td>\n",
       "      <td>NaN</td>\n",
       "      <td>26.255950</td>\n",
       "      <td>0.124238</td>\n",
       "    </tr>\n",
       "    <tr>\n",
       "      <th>max</th>\n",
       "      <td>999.000000</td>\n",
       "      <td>64.000000</td>\n",
       "      <td>NaN</td>\n",
       "      <td>NaN</td>\n",
       "      <td>NaN</td>\n",
       "      <td>39.395770</td>\n",
       "      <td>0.172728</td>\n",
       "    </tr>\n",
       "  </tbody>\n",
       "</table>\n",
       "</div>"
      ],
      "text/plain": [
       "         Unnamed: 0          Age   Location   Device  Variant   Time Spent   \n",
       "count   1000.000000  1000.000000       1000     1000     1000  1000.000000  \\\n",
       "unique          NaN          NaN          3        3        3          NaN   \n",
       "top             NaN          NaN  Location2  Device3  Control          NaN   \n",
       "freq            NaN          NaN        343      346      340          NaN   \n",
       "mean     499.500000    40.715000        NaN      NaN      NaN    22.713345   \n",
       "std      288.819436    13.655557        NaN      NaN      NaN     5.479292   \n",
       "min        0.000000    18.000000        NaN      NaN      NaN     7.114806   \n",
       "25%      249.750000    28.000000        NaN      NaN      NaN    19.216608   \n",
       "50%      499.500000    41.000000        NaN      NaN      NaN    22.506707   \n",
       "75%      749.250000    53.000000        NaN      NaN      NaN    26.255950   \n",
       "max      999.000000    64.000000        NaN      NaN      NaN    39.395770   \n",
       "\n",
       "                CTR  \n",
       "count   1000.000000  \n",
       "unique          NaN  \n",
       "top             NaN  \n",
       "freq            NaN  \n",
       "mean       0.109145  \n",
       "std        0.022366  \n",
       "min        0.012975  \n",
       "25%        0.094286  \n",
       "50%        0.108944  \n",
       "75%        0.124238  \n",
       "max        0.172728  "
      ]
     },
     "execution_count": 73,
     "metadata": {},
     "output_type": "execute_result"
    }
   ],
   "source": [
    "df.describe(include = 'all')\n",
    "# After droping duplications, we can see there is no duplications by useing df.describe() and we can see that there are 1000 null entrys for each column"
   ]
  },
  {
   "cell_type": "code",
   "execution_count": 15,
   "metadata": {},
   "outputs": [
    {
     "data": {
      "text/plain": [
       "<Axes: xlabel='CTR', ylabel='Count'>"
      ]
     },
     "execution_count": 15,
     "metadata": {},
     "output_type": "execute_result"
    },
    {
     "data": {
      "image/png": "[encoded data removed]",
      "text/plain": [
       "<Figure size 640x480 with 1 Axes>"
      ]
     },
     "metadata": {},
     "output_type": "display_data"
    }
   ],
   "source": [
    "sns.histplot(df['CTR'])"
   ]
  },
  {
   "cell_type": "code",
   "execution_count": 57,
   "metadata": {},
   "outputs": [],
   "source": [
    "control = df[df['Variant']=='Control']\n",
    "A= df[df['Variant']=='Variant A']\n",
    "B= df[df['Variant']=='Variant B']\n",
    "control_TS=control['Time Spent'].mean()\n",
    "control_ctr = control['CTR'].mean()\n",
    "A_TS=A['Time Spent'].mean()\n",
    "A_ctr = A['CTR'].mean()\n",
    "B_TS=B['Time Spent'].mean()\n",
    "B_ctr = B['CTR'].mean()"
   ]
  },
  {
   "cell_type": "code",
   "execution_count": 61,
   "metadata": {},
   "outputs": [
    {
     "data": {
      "text/plain": [
       "4.734766375399197"
      ]
     },
     "execution_count": 61,
     "metadata": {},
     "output_type": "execute_result"
    }
   ],
   "source": [
    "\n",
    "A_TS-control_TS"
   ]
  },
  {
   "cell_type": "code",
   "execution_count": 62,
   "metadata": {},
   "outputs": [
    {
     "data": {
      "text/plain": [
       "3.27300196805772"
      ]
     },
     "execution_count": 62,
     "metadata": {},
     "output_type": "execute_result"
    }
   ],
   "source": [
    "B_TS-control_TS"
   ]
  },
  {
   "cell_type": "code",
   "execution_count": 63,
   "metadata": {},
   "outputs": [
    {
     "data": {
      "text/plain": [
       "0.021715340138027603"
      ]
     },
     "execution_count": 63,
     "metadata": {},
     "output_type": "execute_result"
    }
   ],
   "source": [
    "A_ctr-control_ctr"
   ]
  },
  {
   "cell_type": "code",
   "execution_count": 64,
   "metadata": {},
   "outputs": [
    {
     "data": {
      "text/plain": [
       "0.010378887088416652"
      ]
     },
     "execution_count": 64,
     "metadata": {},
     "output_type": "execute_result"
    }
   ],
   "source": [
    "B_ctr-control_ctr"
   ]
  },
  {
   "cell_type": "code",
   "execution_count": 66,
   "metadata": {},
   "outputs": [
    {
     "name": "stdout",
     "output_type": "stream",
     "text": [
      "T-statistic: 12.142363487472364\n",
      "P-value: 8.488565644996449e-31\n"
     ]
    }
   ],
   "source": [
    "control_TS = df[df['Variant']=='Control']['Time Spent']\n",
    "A_TS = df[df['Variant']=='Variant A']['Time Spent']\n",
    "B_TS = df[df['Variant']=='Variant B']['Time Spent']\n",
    "\n",
    "t_stat, p_val = stats.ttest_ind(A_TS, control_TS)\n",
    "\n",
    "print(f\"T-statistic: {t_stat}\")\n",
    "print(f\"P-value: {p_val}\")\n",
    "\n"
   ]
  },
  {
   "cell_type": "code",
   "execution_count": 67,
   "metadata": {},
   "outputs": [
    {
     "name": "stdout",
     "output_type": "stream",
     "text": [
      "T-statistic: 8.174237395991806\n",
      "P-value: 1.496358076285182e-15\n"
     ]
    }
   ],
   "source": [
    "control_TS = df[df['Variant']=='Control']['Time Spent']\n",
    "A_TS = df[df['Variant']=='Variant A']['Time Spent']\n",
    "B_TS = df[df['Variant']=='Variant B']['Time Spent']\n",
    "\n",
    "t_stat, p_val = stats.ttest_ind(B_TS, control_TS)\n",
    "\n",
    "print(f\"T-statistic: {t_stat}\")\n",
    "print(f\"P-value: {p_val}\")\n"
   ]
  },
  {
   "cell_type": "code",
   "execution_count": 68,
   "metadata": {},
   "outputs": [
    {
     "name": "stdout",
     "output_type": "stream",
     "text": [
      "T-statistic: 13.829424737499187\n",
      "P-value: 1.9602781373243157e-38\n"
     ]
    }
   ],
   "source": [
    "control_ctr = df[df['Variant']=='Control']['CTR']\n",
    "A_ctr = df[df['Variant']=='Variant A']['CTR']\n",
    "B_ctr = df[df['Variant']=='Variant B']['CTR']\n",
    "\n",
    "t_stat, p_val = stats.ttest_ind(A_ctr, control_ctr)\n",
    "\n",
    "print(f\"T-statistic: {t_stat}\")\n",
    "print(f\"P-value: {p_val}\")"
   ]
  },
  {
   "cell_type": "code",
   "execution_count": 69,
   "metadata": {},
   "outputs": [
    {
     "name": "stdout",
     "output_type": "stream",
     "text": [
      "T-statistic: 6.4718143491783255\n",
      "P-value: 1.8743198199982106e-10\n"
     ]
    }
   ],
   "source": [
    "control_ctr = df[df['Variant']=='Control']['CTR']\n",
    "A_ctr = df[df['Variant']=='Variant A']['CTR']\n",
    "B_ctr = df[df['Variant']=='Variant B']['CTR']\n",
    "\n",
    "t_stat, p_val = stats.ttest_ind(B_ctr, control_ctr)\n",
    "\n",
    "print(f\"T-statistic: {t_stat}\")\n",
    "print(f\"P-value: {p_val}\")"
   ]
  },
  {
   "attachments": {},
   "cell_type": "markdown",
   "metadata": {},
   "source": [
    "3.\n",
    "Part 1 \n",
    "From above analyze, we can conclude that \n",
    "feature A result in CTR lift in 0.0217\n",
    "feature A result in Time Spent lift in 4.753 minutes\n",
    "feature B result in CTR lift in 0.0104\n",
    "feature B result in Time Spent lift in 3.273 minutes\n",
    "which indicates that \n",
    "On average Variant A will lift the CTR by 2.17%\n",
    "On average Variant A will lift the Average Time Spent by 4.753 minutes\n",
    "On average Variant B will lift the CTR by 1.04%\n",
    "On average Variant B will lift the Average Time Spent by 3.273 minutes\n",
    "\n",
    "Part 2\n",
    "We name \n",
    "The time spent column of the dataframe when Varient is Control as Group Control \n",
    "The time spent column of the dataframe when Varient is Varient A as Group A \n",
    "The time spent column of the dataframe when Varient is Varient B as Group B \n",
    "\n",
    "    After conduct statistical testing: T test between Group Control and Group A, we can see that the result is T-statistic: 12.142363487472364   P-value: 8.488565644996449e-31.\n",
    "The t-value of 12.14 indicates a great magnitude of the difference between the means of the Group A and Group Control\n",
    "    The p-value of 8.488565644996449e-31 a number vary close to zero assuming that the null hypothesis (no difference between the means of Group Control and Group A) is true. In this case, the p-value is extremely small, indicating strong evidence against the null hypothesis.suggests that the observed difference between the means is unlikely to occur by chance alone\n",
    "The sample size of 1000 is relatively large, which increases the statistical power of the test and improves the reliability of the results.\n",
    "    In summary, based on the t-value of 12.14, The p-value of 8.488565644996449e-31, and the relatively large sample size,The concludsion can be made that there is a statistically significant difference between Group Control and Group A\n",
    "\n",
    "\n",
    "After conduct statistical testing: T test between Group Control and Group B, we can see that the result is T-statistic: 8.174237395991806     P-value: 1.496358076285182e-15.\n",
    "    The t-value of 8.174 indicates a great magnitude of the difference between the means of the Group A and Group Control\n",
    "The p-value of 1.496358076285182e-15 a number vary close to zero assuming that the null hypothesis (no difference between the means of Group Control and Group B) is true. In this case, the p-value is extremely small, indicating strong evidence against the null hypothesis.suggests that the observed difference between the means is unlikely to occur by chance alone\n",
    "    The sample size of 1000 is relatively large, which increases the statistical power of the test and improves the reliability of the results.\n",
    "In summary, based on the t-value of 8.174, The p-value of 1.496358076285182e-15, and the relatively large sample size,The concludsion can be made that there is a statistically significant difference between Group Control and Group B\n",
    "\n",
    "We name \n",
    "The CTR column of the dataframe when Varient is Control as Group Control_CTR \n",
    "The CTR column of the dataframe when Varient is Varient A as Group A_CTR\n",
    "The CTR column of the dataframe when Varient is Varient B as Group B_CTR\n",
    "\n",
    "    After conduct statistical testing: T test between Group Control_CTR and Group A_CTR, we can see that the result is T-statistic: 13.82942473749  P-value: 1.9602781373243157e-38.\n",
    "The t-value of 13.829424737499187 indicates a great magnitude of the difference between the means of the Group A_CTR and Group Control_CTR\n",
    "    The p-value of 1.9602781373243157e-38 a number vary close to zero assuming that the null hypothesis (no difference between the means of Group Control_CTR and Group A_CTR) is true. In this case, the p-value is extremely small, indicating strong evidence against the null hypothesis.suggests that the observed difference between the means is unlikely to occur by chance alone\n",
    "The sample size of 1000 is relatively large, which increases the statistical power of the test and improves the reliability of the results.\n",
    "    In summary, based on the t-value of 13.829424, The p-value of 1.9602781373243157e-38, and the relatively large sample size,The concludsion can be made that there is a statistically significant difference between Group Control_CTR and Group A_CTR\n",
    "\n",
    "\n",
    "After conduct statistical testing: T test between Group Control_CTR and Group B_CTR, we can see that the result is T-statistic: 6.4718143491783255    P-value: 1.8743198199982106e-10.\n",
    "    The t-value of 6.4718 indicates a great magnitude of the difference between the means of the Group A_CTR and Group_CTR Control\n",
    "The p-value of 1.8743198199982106e-10 a number vary close to zero assuming that the null hypothesis (no difference between the means of Group Control_CTR and Group B_CTR) is true. In this case, the p-value is extremely small, indicating strong evidence against the null hypothesis.suggests that the observed difference between the means is unlikely to occur by chance alone\n",
    "    The sample size of 1000 is relatively large, which increases the statistical power of the test and improves the reliability of the results.\n",
    "In summary, based on the t-value of 6.4718, The p-value of 1.8743198199982106e-10, and the relatively large sample size,The concludsion can be made that there is a statistically significant difference between Group Control_CTR and Group B_CTR\n",
    "\n",
    "\n",
    "Recommendations to the engineering team \n",
    "    Considering the statistically significant difference in Time Spend compared to the (control group & Variant A) and (control group & Variant B), it is recommended to implement Variant A other than Variant B as it appears to have more positive impact on the average time spent on this mobile app\n",
    "\n",
    "    Considering the statistically significant difference in CTR compared to the (control group & Variant A) and (control group & Variant B), it is recommended to implement Variant A other than Variant B as it appears to have more positive impact on the average CTR on this mobile app\n",
    "\n"
   ]
  },
  {
   "attachments": {},
   "cell_type": "markdown",
   "metadata": {},
   "source": [
    "4.Roll-out plan (Take Clash of Clans as an example - New Halloween Map)\n",
    "\n",
    "Concept and Design Phase:\n",
    "- Define the theme and concept for the Halloween Map.\n",
    "- Create the layout and features of the map.\n",
    "- Develop the visual assets, including artwork, decorations to the Halloween theme.\n",
    "\n",
    "Development Phase:\n",
    "- Implement the Halloween Map into the game's codebase.\n",
    "- Conduct internal testing to ensure the functionality and performance of the map.\n",
    "- Address any bugs or issues discovered during testing.\n",
    "\n",
    "Limited Beta Testing:\n",
    "- Select a group of experienced Clash of Clans players to participate in the limited beta testing of the Halloween Map.\n",
    "- Gather feedback from beta testers regarding gameplay experience, difficulty, and overall satisfaction.\n",
    "\n",
    "Soft Launch:\n",
    "- Release the Halloween Map as a limited-time event to a portion of the player base.\n",
    "- Monitor player engagement and gather feedback on the map's balance and enjoyment.\n",
    "\n",
    "Full Release:\n",
    "- Make the Halloween Map available to all Clash of Clans players.\n",
    "- Launch a promotional campaign to announce the new map, including in-game announcements, \n",
    "- Monitor player feedback and address any critical issues that arise.\n",
    "\n",
    "Community Engagement:\n",
    "- Encourage players to share their experiences and feedback on the new Halloween Map through forums, social media, and official channels.\n",
    "\n",
    "Ongoing Support and Improvements:\n",
    "- Monitor the performance of the Halloween Map in terms of player engagement and retention.\n",
    "- Analyze player feedback and data to identify areas for improvement.\n",
    "- Regularly release updates and patches to address bugs, improve balance, and introduce new features or content related to the Halloween Map.\n"
   ]
  }
 ],
 "metadata": {
  "kernelspec": {
   "display_name": "Python 3",
   "language": "python",
   "name": "python3"
  },
  "language_info": {
   "codemirror_mode": {
    "name": "ipython",
    "version": 3
   },
   "file_extension": ".py",
   "mimetype": "text/x-python",
   "name": "python",
   "nbconvert_exporter": "python",
   "pygments_lexer": "ipython3",
   "version": "3.11.3"
  },
  "orig_nbformat": 4
 },
 "nbformat": 4,
 "nbformat_minor": 2
}
